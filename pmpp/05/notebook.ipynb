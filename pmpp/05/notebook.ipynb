{
 "cells": [
  {
   "cell_type": "code",
   "execution_count": 1,
   "metadata": {},
   "outputs": [],
   "source": [
    "import os\n",
    "os.environ['CUDA_LAUNCH_BLOCKING']='1'"
   ]
  },
  {
   "cell_type": "code",
   "execution_count": 2,
   "metadata": {},
   "outputs": [],
   "source": [
    "import torch\n",
    "from torch.utils.cpp_extension import load_inline\n",
    "\n",
    "def load_cuda(cuda_src, cpp_src, funcs, opt=False, verbose=False):\n",
    "    return load_inline(cuda_sources=[cuda_src], cpp_sources=[cpp_src], functions=funcs, with_cuda=True,\n",
    "                       extra_cuda_cflags=[\"-O3\"] if opt else [], verbose=verbose, name=\"inline_ext\")\n",
    "\n"
   ]
  },
  {
   "cell_type": "code",
   "execution_count": 3,
   "metadata": {},
   "outputs": [],
   "source": [
    "#1d conv\n",
    "kernel = torch.randn(5)\n",
    "inp = torch.randn(128)"
   ]
  },
  {
   "cell_type": "code",
   "execution_count": 28,
   "metadata": {},
   "outputs": [],
   "source": [
    "cuda_src = open(\"conv_kernel.cu\").read()\n",
    "cpp_src = \"\"\"\n",
    "torch::Tensor conv1d_cuda(torch::Tensor inp, torch::Tensor kernel, int width, int kernel_width);\n",
    "torch::Tensor conv2d_cuda(torch::Tensor inp, torch::Tensor kernel, int height, int width, int kernel_size);\n",
    "torch::Tensor conv2d_with_constant_mem(torch::Tensor inp, torch::Tensor kernel, int height, int width, int kernel_size);\n",
    "\"\"\""
   ]
  },
  {
   "cell_type": "code",
   "execution_count": 29,
   "metadata": {},
   "outputs": [
    {
     "name": "stderr",
     "output_type": "stream",
     "text": [
      "/home/aki/miniconda3/envs/imitation/lib/python3.10/site-packages/torch/utils/cpp_extension.py:1965: UserWarning: TORCH_CUDA_ARCH_LIST is not set, all archs for visible cards are included for compilation. \n",
      "If this is not desired, please set os.environ['TORCH_CUDA_ARCH_LIST'].\n",
      "  warnings.warn(\n"
     ]
    }
   ],
   "source": [
    "ext = load_cuda(cuda_src, cpp_src, [\"conv1d_cuda\", \"conv2d_cuda\", \"conv2d_with_constant_mem\"])\n"
   ]
  },
  {
   "cell_type": "code",
   "execution_count": 8,
   "metadata": {},
   "outputs": [],
   "source": [
    "kernel_d = kernel.contiguous().cuda()\n",
    "inp_d = inp.contiguous().cuda()"
   ]
  },
  {
   "cell_type": "code",
   "execution_count": 15,
   "metadata": {},
   "outputs": [],
   "source": [
    "out = ext.conv1d_cuda(inp_d, kernel_d, inp_d.size(0), kernel_d.size(0))"
   ]
  },
  {
   "cell_type": "code",
   "execution_count": 17,
   "metadata": {},
   "outputs": [],
   "source": [
    "# 1d convolution in pytorch\n",
    "out2 = torch.nn.functional.conv1d(inp.view(1, 1, -1), kernel.view(1, 1, -1), padding=kernel.size(0)//2)"
   ]
  },
  {
   "cell_type": "code",
   "execution_count": 19,
   "metadata": {},
   "outputs": [
    {
     "data": {
      "text/plain": [
       "True"
      ]
     },
     "execution_count": 19,
     "metadata": {},
     "output_type": "execute_result"
    }
   ],
   "source": [
    "torch.allclose(out.cpu(), out2.view(-1))"
   ]
  },
  {
   "cell_type": "code",
   "execution_count": 38,
   "metadata": {},
   "outputs": [],
   "source": [
    "#2d conv\n",
    "kernel = torch.randn(5, 5)\n",
    "inp = torch.randn(2048, 2048)\n",
    "inp_d = inp.contiguous().cuda()\n",
    "kernel_d = kernel.contiguous().cuda()"
   ]
  },
  {
   "cell_type": "code",
   "execution_count": 39,
   "metadata": {},
   "outputs": [
    {
     "name": "stdout",
     "output_type": "stream",
     "text": [
      "180 μs ± 257 ns per loop (mean ± std. dev. of 7 runs, 10,000 loops each)\n"
     ]
    }
   ],
   "source": [
    "%%timeit\n",
    "out = ext.conv2d_cuda(inp_d, kernel_d, inp_d.size(0), inp_d.size(1), kernel_d.size(0))"
   ]
  },
  {
   "cell_type": "code",
   "execution_count": 40,
   "metadata": {},
   "outputs": [
    {
     "name": "stdout",
     "output_type": "stream",
     "text": [
      "304 μs ± 558 ns per loop (mean ± std. dev. of 7 runs, 1,000 loops each)\n"
     ]
    }
   ],
   "source": [
    "%%timeit\n",
    "out = ext.conv2d_with_constant_mem(inp_d, kernel_d, inp_d.size(0), inp_d.size(1), kernel_d.size(0))"
   ]
  },
  {
   "cell_type": "code",
   "execution_count": 31,
   "metadata": {},
   "outputs": [],
   "source": [
    "out2 = torch.nn.functional.conv2d(inp.view(1, 1, inp.size(0), inp.size(1)), kernel.view(1, 1, kernel.size(0), kernel.size(1)), padding=kernel.size(0)//2)"
   ]
  },
  {
   "cell_type": "code",
   "execution_count": 33,
   "metadata": {},
   "outputs": [
    {
     "data": {
      "text/plain": [
       "tensor([[-1.1770, -3.4695, -1.4404,  ...,  5.8963,  1.3434, -0.6127],\n",
       "        [-2.9923, -6.1038, -0.6204,  ...,  9.1919, -3.7118,  3.0196],\n",
       "        [ 0.1344, -3.0496,  9.0020,  ...,  3.1603, -9.1067, -0.5996],\n",
       "        ...,\n",
       "        [ 0.9416, -4.0132, -0.9451,  ..., -7.7599, -1.0195,  0.8861],\n",
       "        [ 1.4991, -6.9962, -3.7410,  ...,  4.2999,  1.5676,  4.6936],\n",
       "        [ 2.3572, -3.9708,  1.2321,  ...,  1.4048, -4.3092,  0.0975]],\n",
       "       device='cuda:0')"
      ]
     },
     "execution_count": 33,
     "metadata": {},
     "output_type": "execute_result"
    }
   ],
   "source": [
    "out"
   ]
  },
  {
   "cell_type": "code",
   "execution_count": 34,
   "metadata": {},
   "outputs": [
    {
     "data": {
      "text/plain": [
       "tensor([[[[-1.1770, -3.4695, -1.4404,  ...,  5.8963,  1.3434, -0.6127],\n",
       "          [-2.9923, -6.1038, -0.6204,  ...,  9.1919, -3.7118,  3.0196],\n",
       "          [ 0.1344, -3.0496,  9.0020,  ...,  3.1603, -9.1067, -0.5996],\n",
       "          ...,\n",
       "          [ 0.9416, -4.0132, -0.9451,  ..., -7.7599, -1.0195,  0.8861],\n",
       "          [ 1.4991, -6.9962, -3.7410,  ...,  4.2999,  1.5676,  4.6936],\n",
       "          [ 2.3572, -3.9708,  1.2321,  ...,  1.4048, -4.3092,  0.0975]]]])"
      ]
     },
     "execution_count": 34,
     "metadata": {},
     "output_type": "execute_result"
    }
   ],
   "source": [
    "out2"
   ]
  },
  {
   "cell_type": "code",
   "execution_count": 35,
   "metadata": {},
   "outputs": [
    {
     "data": {
      "text/plain": [
       "True"
      ]
     },
     "execution_count": 35,
     "metadata": {},
     "output_type": "execute_result"
    }
   ],
   "source": [
    "torch.allclose(out.cpu().view(-1), out2.view(-1))"
   ]
  }
 ],
 "metadata": {
  "kernelspec": {
   "display_name": "imitation",
   "language": "python",
   "name": "python3"
  },
  "language_info": {
   "codemirror_mode": {
    "name": "ipython",
    "version": 3
   },
   "file_extension": ".py",
   "mimetype": "text/x-python",
   "name": "python",
   "nbconvert_exporter": "python",
   "pygments_lexer": "ipython3",
   "version": "3.10.15"
  }
 },
 "nbformat": 4,
 "nbformat_minor": 2
}
