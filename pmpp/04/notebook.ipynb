{
 "cells": [
  {
   "cell_type": "code",
   "execution_count": 1,
   "metadata": {},
   "outputs": [],
   "source": [
    "import os\n",
    "os.environ['CUDA_LAUNCH_BLOCKING']='1'"
   ]
  },
  {
   "cell_type": "code",
   "execution_count": 2,
   "metadata": {},
   "outputs": [],
   "source": [
    "import torch\n",
    "from torch.utils.cpp_extension import load_inline\n",
    "\n",
    "def load_cuda(cuda_src, cpp_src, funcs, opt=False, verbose=False):\n",
    "    return load_inline(cuda_sources=[cuda_src], cpp_sources=[cpp_src], functions=funcs, with_cuda=True,\n",
    "                       extra_cuda_cflags=[\"-O3\"] if opt else [], verbose=verbose, name=\"inline_ext\")\n",
    "\n"
   ]
  },
  {
   "cell_type": "code",
   "execution_count": 3,
   "metadata": {},
   "outputs": [],
   "source": [
    "cuda_src = open(\"tile_matmul.cu\").read()\n",
    "cpp_src = \"torch::Tensor torchMatmul(torch::Tensor a, torch::Tensor b);\""
   ]
  },
  {
   "cell_type": "code",
   "execution_count": 4,
   "metadata": {},
   "outputs": [
    {
     "name": "stderr",
     "output_type": "stream",
     "text": [
      "/home/aki/workspace/learning/cuda/.venv/lib/python3.13/site-packages/torch/utils/cpp_extension.py:2059: UserWarning: TORCH_CUDA_ARCH_LIST is not set, all archs for visible cards are included for compilation. \n",
      "If this is not desired, please set os.environ['TORCH_CUDA_ARCH_LIST'].\n",
      "  warnings.warn(\n"
     ]
    }
   ],
   "source": [
    "ext = load_cuda(cuda_src, cpp_src, funcs=[\"torchMatmul\"])"
   ]
  },
  {
   "cell_type": "code",
   "execution_count": 5,
   "metadata": {},
   "outputs": [],
   "source": [
    "a = torch.randn(100, 200)\n",
    "b = torch.randn(200, 60)"
   ]
  },
  {
   "cell_type": "code",
   "execution_count": 6,
   "metadata": {},
   "outputs": [],
   "source": [
    "ac, bc = a.contiguous().cuda(), b.contiguous().cuda()"
   ]
  },
  {
   "cell_type": "code",
   "execution_count": 7,
   "metadata": {},
   "outputs": [],
   "source": [
    "c = ext.torchMatmul(ac, bc)"
   ]
  },
  {
   "cell_type": "code",
   "execution_count": 8,
   "metadata": {},
   "outputs": [
    {
     "data": {
      "text/plain": [
       "tensor([[  6.2497,   2.2986,   9.7850,  ...,   1.0557,  32.1697,  -6.3645],\n",
       "        [  4.9208,  -2.3458,   8.6116,  ...,  16.7355,  -1.5945, -19.2476],\n",
       "        [-16.6313,  -5.7314,   0.4676,  ...,  11.4506,   7.5718,  -6.7869],\n",
       "        ...,\n",
       "        [ 14.7773, -11.5361, -10.1198,  ...,  18.7556,  -3.2065,  11.4183],\n",
       "        [-13.9004,  -7.2159,   3.8378,  ...,  20.5762,  -6.3875,   9.2821],\n",
       "        [-27.4938, -14.6720,  -8.9535,  ...,  -2.5451,  10.1389,  38.4938]],\n",
       "       device='cuda:0')"
      ]
     },
     "execution_count": 8,
     "metadata": {},
     "output_type": "execute_result"
    }
   ],
   "source": [
    "c"
   ]
  },
  {
   "cell_type": "code",
   "execution_count": 9,
   "metadata": {},
   "outputs": [
    {
     "data": {
      "text/plain": [
       "tensor([[  6.2497,   2.2986,   9.7850,  ...,   1.0557,  32.1697,  -6.3645],\n",
       "        [  4.9208,  -2.3458,   8.6116,  ...,  16.7355,  -1.5945, -19.2476],\n",
       "        [-16.6313,  -5.7314,   0.4676,  ...,  11.4506,   7.5718,  -6.7869],\n",
       "        ...,\n",
       "        [ 14.7773, -11.5361, -10.1198,  ...,  18.7556,  -3.2065,  11.4183],\n",
       "        [-13.9004,  -7.2159,   3.8378,  ...,  20.5762,  -6.3875,   9.2821],\n",
       "        [-27.4938, -14.6720,  -8.9535,  ...,  -2.5451,  10.1389,  38.4938]],\n",
       "       device='cuda:0')"
      ]
     },
     "execution_count": 9,
     "metadata": {},
     "output_type": "execute_result"
    }
   ],
   "source": [
    "ac @ bc"
   ]
  },
  {
   "cell_type": "code",
   "execution_count": 10,
   "metadata": {},
   "outputs": [
    {
     "data": {
      "text/plain": [
       "tensor([[True, True, True,  ..., True, True, True],\n",
       "        [True, True, True,  ..., True, True, True],\n",
       "        [True, True, True,  ..., True, True, True],\n",
       "        ...,\n",
       "        [True, True, True,  ..., True, True, True],\n",
       "        [True, True, True,  ..., True, True, True],\n",
       "        [True, True, True,  ..., True, True, True]], device='cuda:0')"
      ]
     },
     "execution_count": 10,
     "metadata": {},
     "output_type": "execute_result"
    }
   ],
   "source": [
    "torch.isclose(c, ac@bc)"
   ]
  },
  {
   "cell_type": "code",
   "execution_count": null,
   "metadata": {},
   "outputs": [],
   "source": []
  }
 ],
 "metadata": {
  "kernelspec": {
   "display_name": ".venv",
   "language": "python",
   "name": "python3"
  },
  "language_info": {
   "codemirror_mode": {
    "name": "ipython",
    "version": 3
   },
   "file_extension": ".py",
   "mimetype": "text/x-python",
   "name": "python",
   "nbconvert_exporter": "python",
   "pygments_lexer": "ipython3",
   "version": "3.13.1"
  }
 },
 "nbformat": 4,
 "nbformat_minor": 2
}
