{
 "cells": [
  {
   "cell_type": "code",
   "execution_count": 1,
   "metadata": {},
   "outputs": [],
   "source": [
    "import time\n",
    "import torch\n",
    "import torch.nn.functional as F\n",
    "import os\n",
    "os.environ['CUDA_LAUNCH_BLOCKING']='1'"
   ]
  },
  {
   "cell_type": "code",
   "execution_count": 2,
   "metadata": {},
   "outputs": [],
   "source": [
    "from torch.utils.cpp_extension import load_inline\n",
    "from torch.profiler import profile, record_function, ProfilerActivity\n",
    "def load_cuda(cuda_src, cpp_src, funcs, opt=False, verbose=False):\n",
    "    return load_inline(cuda_sources=[cuda_src], cpp_sources=[cpp_src], functions=funcs, with_cuda=True,\n",
    "                       extra_cuda_cflags=[\"-O3\"] if opt else [], verbose=verbose, name=\"inline_ext\")\n"
   ]
  },
  {
   "cell_type": "code",
   "execution_count": 6,
   "metadata": {},
   "outputs": [
    {
     "name": "stdout",
     "output_type": "stream",
     "text": [
      "1.192331314086914\n",
      "2.275705337524414\n",
      "3.372669219970703\n",
      "4.453182220458984\n",
      "5.533456802368164\n",
      "Softmax computation time (average): 1.107 ms\n"
     ]
    }
   ],
   "source": [
    "# Initialize the matrix on device\n",
    "matrix = torch.randn(1024, 32768, device='cuda', dtype=torch.float32)\n",
    "\n",
    "# Warm up\n",
    "_ = torch.nn.functional.softmax(matrix, dim=-1)\n",
    "\n",
    "# Ensure all CUDA operations are finished\n",
    "torch.cuda.synchronize()  \n",
    "\n",
    "total_time = 0\n",
    "n_iters = 5\n",
    "\n",
    "for i in range(n_iters):\n",
    "    # Measure time\n",
    "    torch.cuda.synchronize()  # Ensure all CUDA operations are finished\n",
    "    start = time.time()\n",
    "    _ = torch.nn.functional.softmax(matrix, dim=-1)\n",
    "    torch.cuda.synchronize()  # Synchronize again\n",
    "    end = time.time()\n",
    "    \n",
    "    total_time += (end - start) * 1000\n",
    "    print(total_time)\n",
    "\n",
    "print(f\"Softmax computation time (average): {(total_time/n_iters):.3f} ms\")"
   ]
  },
  {
   "cell_type": "code",
   "execution_count": 11,
   "metadata": {},
   "outputs": [
    {
     "name": "stderr",
     "output_type": "stream",
     "text": [
      "/home/aki/workspace/learning/cuda/.venv/lib/python3.13/site-packages/torch/utils/cpp_extension.py:2059: UserWarning: TORCH_CUDA_ARCH_LIST is not set, all archs for visible cards are included for compilation. \n",
      "If this is not desired, please set os.environ['TORCH_CUDA_ARCH_LIST'].\n",
      "  warnings.warn(\n"
     ]
    }
   ],
   "source": [
    "cuda_src = open(\"softmax.cu\").read()\n",
    "cpp_src = \"\"\"\n",
    "torch::Tensor naive_softmax(torch::Tensor input);\n",
    "torch::Tensor online_normalizer_softmax(torch::Tensor input);\n",
    "torch::Tensor share_memory_softmax(torch::Tensor input);\n",
    "torch::Tensor warp_shuffle_softmax(torch::Tensor input);\n",
    "\n",
    "\"\"\"\n",
    "funcs = [\"naive_softmax\", \"online_normalizer_softmax\", \"share_memory_softmax\", \"warp_shuffle_softmax\"]\n",
    "ext = load_cuda(cuda_src, cpp_src, funcs)"
   ]
  },
  {
   "cell_type": "code",
   "execution_count": 12,
   "metadata": {},
   "outputs": [
    {
     "data": {
      "text/plain": [
       "tensor([1.0000, 1.0000, 1.0000,  ..., 1.0000, 1.0000, 1.0000], device='cuda:0')"
      ]
     },
     "execution_count": 12,
     "metadata": {},
     "output_type": "execute_result"
    }
   ],
   "source": [
    "out = ext.share_memory_softmax(matrix)\n",
    "out.sum(-1)"
   ]
  },
  {
   "cell_type": "code",
   "execution_count": 22,
   "metadata": {},
   "outputs": [
    {
     "name": "stdout",
     "output_type": "stream",
     "text": [
      "1.3437271118164062\n",
      "2.6297569274902344\n",
      "3.8673877716064453\n",
      "5.094289779663086\n",
      "6.294965744018555\n",
      "Softmax computation time (average): 1.259 ms\n"
     ]
    }
   ],
   "source": [
    "total_time = 0\n",
    "n_iters = 5\n",
    "\n",
    "for i in range(n_iters):\n",
    "    # Measure time\n",
    "    torch.cuda.synchronize()  # Ensure all CUDA operations are finished\n",
    "    start = time.time()\n",
    "    _ = ext.share_memory_softmax(matrix)\n",
    "    torch.cuda.synchronize()  # Synchronize again\n",
    "    end = time.time()\n",
    "    \n",
    "    total_time += (end - start) * 1000\n",
    "    print(total_time)\n",
    "\n",
    "print(f\"Softmax computation time (average): {(total_time/n_iters):.3f} ms\")"
   ]
  }
 ],
 "metadata": {
  "kernelspec": {
   "display_name": ".venv",
   "language": "python",
   "name": "python3"
  },
  "language_info": {
   "codemirror_mode": {
    "name": "ipython",
    "version": 3
   },
   "file_extension": ".py",
   "mimetype": "text/x-python",
   "name": "python",
   "nbconvert_exporter": "python",
   "pygments_lexer": "ipython3",
   "version": "3.11.11"
  }
 },
 "nbformat": 4,
 "nbformat_minor": 2
}
